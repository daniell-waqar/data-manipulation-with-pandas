{
  "metadata": {
    "language_info": {
      "codemirror_mode": {
        "name": "python",
        "version": 3
      },
      "file_extension": ".py",
      "mimetype": "text/x-python",
      "name": "python",
      "nbconvert_exporter": "python",
      "pygments_lexer": "ipython3",
      "version": "3.8"
    },
    "kernelspec": {
      "name": "python",
      "display_name": "Python (Pyodide)",
      "language": "python"
    }
  },
  "nbformat_minor": 4,
  "nbformat": 4,
  "cells": [
    {
      "cell_type": "markdown",
      "source": "Inspecting a DataFrame: When you get a new DataFrame to work with, the first thing you need to do is explore it and see what it contains. There are several useful methods and attributes for this.",
      "metadata": {}
    },
    {
      "cell_type": "markdown",
      "source": ".head() returns the first few rows (the head of the DataFrame).\n\n.info() shows information on each of the columns, such as the data type and number of missing values.\n\n.shape returns the number of rows and columns of the DataFrame.\n\n.describe() calculates a few summary statistics for each column.",
      "metadata": {}
    },
    {
      "cell_type": "code",
      "source": "import pandas as pd\nhomelessness = pd.read_csv('homelessness.csv')\n",
      "metadata": {
        "trusted": true
      },
      "execution_count": 46,
      "outputs": []
    },
    {
      "cell_type": "code",
      "source": "# Print the head of the homelessness data\nprint(homelessness.head())",
      "metadata": {
        "trusted": true
      },
      "execution_count": 47,
      "outputs": [
        {
          "name": "stdout",
          "text": "   Unnamed: 0              region       state  individuals  family_members  \\\n0           0  East South Central     Alabama       2570.0           864.0   \n1           1             Pacific      Alaska       1434.0           582.0   \n2           2            Mountain     Arizona       7259.0          2606.0   \n3           3  West South Central    Arkansas       2280.0           432.0   \n4           4             Pacific  California     109008.0         20964.0   \n\n   state_pop  \n0    4887681  \n1     735139  \n2    7158024  \n3    3009733  \n4   39461588  \n",
          "output_type": "stream"
        }
      ]
    },
    {
      "cell_type": "code",
      "source": "# Print information about homelessness\nprint(homelessness.info())",
      "metadata": {
        "trusted": true
      },
      "execution_count": 48,
      "outputs": [
        {
          "name": "stdout",
          "text": "<class 'pandas.core.frame.DataFrame'>\nRangeIndex: 51 entries, 0 to 50\nData columns (total 6 columns):\n #   Column          Non-Null Count  Dtype  \n---  ------          --------------  -----  \n 0   Unnamed: 0      51 non-null     int64  \n 1   region          51 non-null     object \n 2   state           51 non-null     object \n 3   individuals     51 non-null     float64\n 4   family_members  51 non-null     float64\n 5   state_pop       51 non-null     int64  \ndtypes: float64(2), int64(2), object(2)\nmemory usage: 2.1+ KB\nNone\n",
          "output_type": "stream"
        }
      ]
    },
    {
      "cell_type": "code",
      "source": "# Print the shape of homelessness\nprint(homelessness.shape)",
      "metadata": {
        "trusted": true
      },
      "execution_count": 49,
      "outputs": [
        {
          "name": "stdout",
          "text": "(51, 6)\n",
          "output_type": "stream"
        }
      ]
    },
    {
      "cell_type": "code",
      "source": "# Print a description of homelessness\nprint(homelessness.describe())",
      "metadata": {
        "trusted": true
      },
      "execution_count": 50,
      "outputs": [
        {
          "name": "stdout",
          "text": "       Unnamed: 0    individuals  family_members     state_pop\ncount   51.000000      51.000000       51.000000  5.100000e+01\nmean    25.000000    7225.784314     3504.882353  6.405637e+06\nstd     14.866069   15991.025083     7805.411811  7.327258e+06\nmin      0.000000     434.000000       75.000000  5.776010e+05\n25%     12.500000    1446.500000      592.000000  1.777414e+06\n50%     25.000000    3082.000000     1482.000000  4.461153e+06\n75%     37.500000    6781.500000     3196.000000  7.340946e+06\nmax     50.000000  109008.000000    52070.000000  3.946159e+07\n",
          "output_type": "stream"
        }
      ]
    },
    {
      "cell_type": "markdown",
      "source": "Parts of a DataFrame: A DataFrame is consist of three components, stored as attributes:\n    \n.values: A two-dimensional NumPy array of values.\n\n.columns: An index of columns: the column names.\n\n.index: An index for the rows: either row numbers or row names.",
      "metadata": {}
    },
    {
      "cell_type": "code",
      "source": "# Print the values of homelessness\nprint(homelessness.values)",
      "metadata": {
        "trusted": true
      },
      "execution_count": 51,
      "outputs": [
        {
          "name": "stdout",
          "text": "[[0 'East South Central' 'Alabama' 2570.0 864.0 4887681]\n [1 'Pacific' 'Alaska' 1434.0 582.0 735139]\n [2 'Mountain' 'Arizona' 7259.0 2606.0 7158024]\n [3 'West South Central' 'Arkansas' 2280.0 432.0 3009733]\n [4 'Pacific' 'California' 109008.0 20964.0 39461588]\n [5 'Mountain' 'Colorado' 7607.0 3250.0 5691287]\n [6 'New England' 'Connecticut' 2280.0 1696.0 3571520]\n [7 'South Atlantic' 'Delaware' 708.0 374.0 965479]\n [8 'South Atlantic' 'District of Columbia' 3770.0 3134.0 701547]\n [9 'South Atlantic' 'Florida' 21443.0 9587.0 21244317]\n [10 'South Atlantic' 'Georgia' 6943.0 2556.0 10511131]\n [11 'Pacific' 'Hawaii' 4131.0 2399.0 1420593]\n [12 'Mountain' 'Idaho' 1297.0 715.0 1750536]\n [13 'East North Central' 'Illinois' 6752.0 3891.0 12723071]\n [14 'East North Central' 'Indiana' 3776.0 1482.0 6695497]\n [15 'West North Central' 'Iowa' 1711.0 1038.0 3148618]\n [16 'West North Central' 'Kansas' 1443.0 773.0 2911359]\n [17 'East South Central' 'Kentucky' 2735.0 953.0 4461153]\n [18 'West South Central' 'Louisiana' 2540.0 519.0 4659690]\n [19 'New England' 'Maine' 1450.0 1066.0 1339057]\n [20 'South Atlantic' 'Maryland' 4914.0 2230.0 6035802]\n [21 'New England' 'Massachusetts' 6811.0 13257.0 6882635]\n [22 'East North Central' 'Michigan' 5209.0 3142.0 9984072]\n [23 'West North Central' 'Minnesota' 3993.0 3250.0 5606249]\n [24 'East South Central' 'Mississippi' 1024.0 328.0 2981020]\n [25 'West North Central' 'Missouri' 3776.0 2107.0 6121623]\n [26 'Mountain' 'Montana' 983.0 422.0 1060665]\n [27 'West North Central' 'Nebraska' 1745.0 676.0 1925614]\n [28 'Mountain' 'Nevada' 7058.0 486.0 3027341]\n [29 'New England' 'New Hampshire' 835.0 615.0 1353465]\n [30 'Mid-Atlantic' 'New Jersey' 6048.0 3350.0 8886025]\n [31 'Mountain' 'New Mexico' 1949.0 602.0 2092741]\n [32 'Mid-Atlantic' 'New York' 39827.0 52070.0 19530351]\n [33 'South Atlantic' 'North Carolina' 6451.0 2817.0 10381615]\n [34 'West North Central' 'North Dakota' 467.0 75.0 758080]\n [35 'East North Central' 'Ohio' 6929.0 3320.0 11676341]\n [36 'West South Central' 'Oklahoma' 2823.0 1048.0 3940235]\n [37 'Pacific' 'Oregon' 11139.0 3337.0 4181886]\n [38 'Mid-Atlantic' 'Pennsylvania' 8163.0 5349.0 12800922]\n [39 'New England' 'Rhode Island' 747.0 354.0 1058287]\n [40 'South Atlantic' 'South Carolina' 3082.0 851.0 5084156]\n [41 'West North Central' 'South Dakota' 836.0 323.0 878698]\n [42 'East South Central' 'Tennessee' 6139.0 1744.0 6771631]\n [43 'West South Central' 'Texas' 19199.0 6111.0 28628666]\n [44 'Mountain' 'Utah' 1904.0 972.0 3153550]\n [45 'New England' 'Vermont' 780.0 511.0 624358]\n [46 'South Atlantic' 'Virginia' 3928.0 2047.0 8501286]\n [47 'Pacific' 'Washington' 16424.0 5880.0 7523869]\n [48 'South Atlantic' 'West Virginia' 1021.0 222.0 1804291]\n [49 'East North Central' 'Wisconsin' 2740.0 2167.0 5807406]\n [50 'Mountain' 'Wyoming' 434.0 205.0 577601]]\n",
          "output_type": "stream"
        }
      ]
    },
    {
      "cell_type": "code",
      "source": "# Print the column index of homelessness\nprint(homelessness.columns)",
      "metadata": {
        "trusted": true
      },
      "execution_count": 52,
      "outputs": [
        {
          "name": "stdout",
          "text": "Index(['Unnamed: 0', 'region', 'state', 'individuals', 'family_members',\n       'state_pop'],\n      dtype='object')\n",
          "output_type": "stream"
        }
      ]
    },
    {
      "cell_type": "code",
      "source": "# Print the row index of homelessness\nprint(homelessness.index)",
      "metadata": {
        "trusted": true
      },
      "execution_count": 53,
      "outputs": [
        {
          "name": "stdout",
          "text": "RangeIndex(start=0, stop=51, step=1)\n",
          "output_type": "stream"
        }
      ]
    },
    {
      "cell_type": "markdown",
      "source": "Sorting rows of a DataFrame: You can sort the rows by passing a column name to .sort_values().",
      "metadata": {}
    },
    {
      "cell_type": "code",
      "source": "# Sort homelessness by individuals\nhomelessness_ind = homelessness.sort_values(\"individuals\")\n\n# Print the top few rows\nprint(homelessness_ind.head())",
      "metadata": {
        "trusted": true
      },
      "execution_count": 54,
      "outputs": [
        {
          "name": "stdout",
          "text": "    Unnamed: 0              region         state  individuals  family_members  \\\n50          50            Mountain       Wyoming        434.0           205.0   \n34          34  West North Central  North Dakota        467.0            75.0   \n7            7      South Atlantic      Delaware        708.0           374.0   \n39          39         New England  Rhode Island        747.0           354.0   \n45          45         New England       Vermont        780.0           511.0   \n\n    state_pop  \n50     577601  \n34     758080  \n7      965479  \n39    1058287  \n45     624358  \n",
          "output_type": "stream"
        }
      ]
    },
    {
      "cell_type": "code",
      "source": "# Sort homelessness by descending family members\nhomelessness_fam = homelessness.sort_values('family_members', ascending=False)\n# Print the top few rows\nprint(homelessness_fam.head())",
      "metadata": {
        "trusted": true
      },
      "execution_count": 55,
      "outputs": [
        {
          "name": "stdout",
          "text": "    Unnamed: 0              region          state  individuals  \\\n32          32        Mid-Atlantic       New York      39827.0   \n4            4             Pacific     California     109008.0   \n21          21         New England  Massachusetts       6811.0   \n9            9      South Atlantic        Florida      21443.0   \n43          43  West South Central          Texas      19199.0   \n\n    family_members  state_pop  \n32         52070.0   19530351  \n4          20964.0   39461588  \n21         13257.0    6882635  \n9           9587.0   21244317  \n43          6111.0   28628666  \n",
          "output_type": "stream"
        }
      ]
    },
    {
      "cell_type": "code",
      "source": "# Sort homelessness by region(ascending), then descending family members\nhomelessness_reg_fam = homelessness.sort_values([\"region\", \"family_members\"], ascending=[True, False])\n\n# Print the top few rows\nprint(homelessness_reg_fam.head())",
      "metadata": {
        "trusted": true
      },
      "execution_count": 56,
      "outputs": [
        {
          "name": "stdout",
          "text": "    Unnamed: 0              region      state  individuals  family_members  \\\n13          13  East North Central   Illinois       6752.0          3891.0   \n35          35  East North Central       Ohio       6929.0          3320.0   \n22          22  East North Central   Michigan       5209.0          3142.0   \n49          49  East North Central  Wisconsin       2740.0          2167.0   \n14          14  East North Central    Indiana       3776.0          1482.0   \n\n    state_pop  \n13   12723071  \n35   11676341  \n22    9984072  \n49    5807406  \n14    6695497  \n",
          "output_type": "stream"
        }
      ]
    },
    {
      "cell_type": "markdown",
      "source": "Subsetting columns:  When working with data, you may not need all of the variables in your dataset. Square brackets ([]) can be used to select only the columns that matter to you!!",
      "metadata": {}
    },
    {
      "cell_type": "code",
      "source": "# Select the individuals column\nindividuals = homelessness['individuals']\n# Print the head of the result\nprint(individuals.head())",
      "metadata": {
        "trusted": true
      },
      "execution_count": 57,
      "outputs": [
        {
          "name": "stdout",
          "text": "0      2570.0\n1      1434.0\n2      7259.0\n3      2280.0\n4    109008.0\nName: individuals, dtype: float64\n",
          "output_type": "stream"
        }
      ]
    },
    {
      "cell_type": "code",
      "source": "# Select the state and family_members columns\nstate_fam = homelessness[['state', 'family_members']]\n# Print the head of the result\nprint(state_fam.head())\n",
      "metadata": {
        "trusted": true
      },
      "execution_count": 58,
      "outputs": [
        {
          "name": "stdout",
          "text": "        state  family_members\n0     Alabama           864.0\n1      Alaska           582.0\n2     Arizona          2606.0\n3    Arkansas           432.0\n4  California         20964.0\n",
          "output_type": "stream"
        }
      ]
    },
    {
      "cell_type": "code",
      "source": "# Select only the individuals and state columns, in that order\nind_state = homelessness[['individuals' , 'state']]\n# Print the head of the result\nprint(ind_state.head())",
      "metadata": {
        "trusted": true
      },
      "execution_count": 59,
      "outputs": [
        {
          "name": "stdout",
          "text": "   individuals       state\n0       2570.0     Alabama\n1       1434.0      Alaska\n2       7259.0     Arizona\n3       2280.0    Arkansas\n4     109008.0  California\n",
          "output_type": "stream"
        }
      ]
    },
    {
      "cell_type": "markdown",
      "source": "Subsetting rows: There are many ways to subset a DataFrame, perhaps the most common is to use relational operators\nto return True or False for each row, then pass that inside square brackets.",
      "metadata": {}
    },
    {
      "cell_type": "code",
      "source": "# Filter for rows where individuals is greater than 10000\nind_gt_10k = homelessness['individuals'] > 10000\n\n# See the result\nprint(ind_gt_10k.head())",
      "metadata": {
        "trusted": true
      },
      "execution_count": 60,
      "outputs": [
        {
          "name": "stdout",
          "text": "0    False\n1    False\n2    False\n3    False\n4     True\nName: individuals, dtype: bool\n",
          "output_type": "stream"
        }
      ]
    },
    {
      "cell_type": "code",
      "source": "# Filter for rows where region is Mountain\nmountain_reg = homelessness[homelessness['region'] == 'Mountain']\n\n# See the result\nprint(mountain_reg.head())",
      "metadata": {
        "trusted": true
      },
      "execution_count": 61,
      "outputs": [
        {
          "name": "stdout",
          "text": "    Unnamed: 0    region     state  individuals  family_members  state_pop\n2            2  Mountain   Arizona       7259.0          2606.0    7158024\n5            5  Mountain  Colorado       7607.0          3250.0    5691287\n12          12  Mountain     Idaho       1297.0           715.0    1750536\n26          26  Mountain   Montana        983.0           422.0    1060665\n28          28  Mountain    Nevada       7058.0           486.0    3027341\n",
          "output_type": "stream"
        }
      ]
    },
    {
      "cell_type": "code",
      "source": "# Filter for rows where family_members is less than 1000 \n# and region is Pacific\nfam_lt_1k_pac = homelessness[(homelessness['family_members'] < 1000) & (homelessness['region'] == 'Pacific')]\n\n# See the result\nprint(fam_lt_1k_pac)",
      "metadata": {
        "trusted": true
      },
      "execution_count": 62,
      "outputs": [
        {
          "name": "stdout",
          "text": "   Unnamed: 0   region   state  individuals  family_members  state_pop\n1           1  Pacific  Alaska       1434.0           582.0     735139\n",
          "output_type": "stream"
        }
      ]
    },
    {
      "cell_type": "markdown",
      "source": "Subsetting rows by categorical variables: Subsetting data based on a categorical variable often involves using the \"or\" operator (|) to select rows from multiple categories.\nisin() method, which will allow you to tackle this problem by writing one condition instead of three separate ones.",
      "metadata": {}
    },
    {
      "cell_type": "code",
      "source": "# Subset for rows in South Atlantic or Mid-Atlantic regions\nsouth_mid_atlantic = homelessness[homelessness[\"region\"].isin([\"South Atlantic\", \"Mid-Atlantic\"])]\n\n# See the result\nprint(south_mid_atlantic)",
      "metadata": {
        "trusted": true
      },
      "execution_count": 63,
      "outputs": [
        {
          "name": "stdout",
          "text": "    Unnamed: 0          region                 state  individuals  \\\n7            7  South Atlantic              Delaware        708.0   \n8            8  South Atlantic  District of Columbia       3770.0   \n9            9  South Atlantic               Florida      21443.0   \n10          10  South Atlantic               Georgia       6943.0   \n20          20  South Atlantic              Maryland       4914.0   \n30          30    Mid-Atlantic            New Jersey       6048.0   \n32          32    Mid-Atlantic              New York      39827.0   \n33          33  South Atlantic        North Carolina       6451.0   \n38          38    Mid-Atlantic          Pennsylvania       8163.0   \n40          40  South Atlantic        South Carolina       3082.0   \n46          46  South Atlantic              Virginia       3928.0   \n48          48  South Atlantic         West Virginia       1021.0   \n\n    family_members  state_pop  \n7            374.0     965479  \n8           3134.0     701547  \n9           9587.0   21244317  \n10          2556.0   10511131  \n20          2230.0    6035802  \n30          3350.0    8886025  \n32         52070.0   19530351  \n33          2817.0   10381615  \n38          5349.0   12800922  \n40           851.0    5084156  \n46          2047.0    8501286  \n48           222.0    1804291  \n",
          "output_type": "stream"
        }
      ]
    },
    {
      "cell_type": "code",
      "source": "# The Mojave Desert states\ncanu = [\"California\", \"Arizona\", \"Nevada\", \"Utah\"]\n\n# Filter for rows in the Mojave Desert states\nmojave_homelessness = homelessness[homelessness['state'].isin(canu)]\n# See the result\nprint(mojave_homelessness)",
      "metadata": {
        "trusted": true
      },
      "execution_count": 70,
      "outputs": [
        {
          "name": "stdout",
          "text": "    Unnamed: 0    region       state  individuals  family_members  state_pop  \\\n2            2  Mountain     Arizona       7259.0          2606.0    7158024   \n4            4   Pacific  California     109008.0         20964.0   39461588   \n28          28  Mountain      Nevada       7058.0           486.0    3027341   \n44          44  Mountain        Utah       1904.0           972.0    3153550   \n\n       total  p_individuals  \n2     9865.0       0.735834  \n4   129972.0       0.838704  \n28    7544.0       0.935578  \n44    2876.0       0.662031  \n",
          "output_type": "stream"
        }
      ]
    },
    {
      "cell_type": "markdown",
      "source": "Adding new columns: Instead, you can add new columns to a DataFrame. This has many names, such as transforming, mutating, and feature engineering.\nYou can create new columns from scratch, but it is also common to derive them from other columns, for example, by adding columns together or by changing their units.",
      "metadata": {}
    },
    {
      "cell_type": "code",
      "source": "# Add total col as sum of individuals and family_members\nhomelessness[\"total\"] = homelessness[\"individuals\"] + homelessness[\"family_members\"]\n# Add p_individuals col as proportion of total that are individuals\nhomelessness['p_individuals'] = homelessness['individuals'] / homelessness['total']\n# See the result\nprint(homelessness.head())",
      "metadata": {
        "trusted": true
      },
      "execution_count": 77,
      "outputs": [
        {
          "name": "stdout",
          "text": "   Unnamed: 0              region       state  individuals  family_members  \\\n0           0  East South Central     Alabama       2570.0           864.0   \n1           1             Pacific      Alaska       1434.0           582.0   \n2           2            Mountain     Arizona       7259.0          2606.0   \n3           3  West South Central    Arkansas       2280.0           432.0   \n4           4             Pacific  California     109008.0         20964.0   \n\n   state_pop     total  p_individuals  \n0    4887681    3434.0       0.748398  \n1     735139    2016.0       0.711310  \n2    7158024    9865.0       0.735834  \n3    3009733    2712.0       0.840708  \n4   39461588  129972.0       0.838704  \n",
          "output_type": "stream"
        }
      ]
    },
    {
      "cell_type": "markdown",
      "source": "Combo-attack! : You've seen the four most common types of data manipulation: sorting rows, subsetting columns, subsetting rows, and adding new columns. In a real-life data analysis, you can mix and match these four manipulations to answer a multitude of questions.",
      "metadata": {}
    },
    {
      "cell_type": "code",
      "source": "# Create indiv_per_10k col as homeless individuals per 10k state pop\nhomelessness[\"indiv_per_10k\"] = 10000 * homelessness['individuals'] / homelessness['state_pop'] \n\n# Subset rows for indiv_per_10k greater than 20\nhigh_homelessness = homelessness[homelessness['indiv_per_10k'] > 20]\n\n# Sort high_homelessness by descending indiv_per_10k\nhigh_homelessness_srt = high_homelessness.sort_values('indiv_per_10k', ascending=False)\n\n# From high_homelessness_srt, select the state and indiv_per_10k cols\nresult = high_homelessness_srt[['state' , 'indiv_per_10k']]\n\n# See the result\nprint(result)",
      "metadata": {
        "trusted": true
      },
      "execution_count": 84,
      "outputs": [
        {
          "name": "stdout",
          "text": "                   state  indiv_per_10k\n8   District of Columbia      53.738381\n11                Hawaii      29.079406\n4             California      27.623825\n37                Oregon      26.636307\n28                Nevada      23.314189\n47            Washington      21.829195\n32              New York      20.392363\n",
          "output_type": "stream"
        }
      ]
    },
    {
      "cell_type": "code",
      "source": "",
      "metadata": {
        "trusted": true
      },
      "execution_count": null,
      "outputs": []
    },
    {
      "cell_type": "code",
      "source": "",
      "metadata": {},
      "execution_count": null,
      "outputs": []
    }
  ]
}